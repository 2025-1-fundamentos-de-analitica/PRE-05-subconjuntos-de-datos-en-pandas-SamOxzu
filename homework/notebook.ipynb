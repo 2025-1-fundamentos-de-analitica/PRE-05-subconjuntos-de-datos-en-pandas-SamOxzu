{
 "cells": [
  {
   "cell_type": "code",
   "execution_count": 1,
   "id": "410d33fa",
   "metadata": {},
   "outputs": [],
   "source": [
    "import pandas as pd  #  type: ignore\n",
    "\n",
    "# Propiedad de pandas que indica que las respuestas se\n",
    "# mostrarán en formato de texto.\n",
    "pd.set_option(\"display.notebook_repr_html\", False)"
   ]
  },
  {
   "cell_type": "code",
   "execution_count": 2,
   "id": "34e5a5c8",
   "metadata": {},
   "outputs": [
    {
     "data": {
      "text/plain": [
       "   driverId  truckId eventTime eventType  longitude  latitude  \\\n",
       "0        14       25   59:21.4    Normal     -94.58     37.03   \n",
       "1        18       16   59:21.7    Normal     -89.66     39.78   \n",
       "2        27      105   59:21.7    Normal     -90.21     38.65   \n",
       "3        11       74   59:21.7    Normal     -90.20     38.65   \n",
       "4        22       87   59:21.7    Normal     -90.04     35.19   \n",
       "\n",
       "                     eventKey  CorrelationId       driverName     routeId  \\\n",
       "0   14|25|9223370572464814373   3.660000e+18       Adis Cesir   160405074   \n",
       "1   18|16|9223370572464814089   3.660000e+18        Grant Liu  1565885487   \n",
       "2  27|105|9223370572464814070   3.660000e+18  Mark Lochbihler  1325562373   \n",
       "3   11|74|9223370572464814123   3.660000e+18   Jamie Engesser  1567254452   \n",
       "4   22|87|9223370572464814101   3.660000e+18    Nadeem Asghar  1198242881   \n",
       "\n",
       "                                routeName      eventDate  \n",
       "0           Joplin to Kansas City Route 2  2016-05-27-22  \n",
       "1           Springfield to KC Via Hanibal  2016-05-27-22  \n",
       "2  Springfield to KC Via Columbia Route 2  2016-05-27-22  \n",
       "3           Saint Louis to Memphis Route2  2016-05-27-22  \n",
       "4           Saint Louis to Chicago Route2  2016-05-27-22  "
      ]
     },
     "execution_count": 2,
     "metadata": {},
     "output_type": "execute_result"
    }
   ],
   "source": [
    "# Carga del archivo desde un repo en GitHub\n",
    "# Debido a que el libro tiene su propio ambiente de python,\n",
    "# la ruta de acceso se encuentra en homework, usammos \"..\"\n",
    "# al principio de la ruta para salir del directorio actual\n",
    "# y acceder desde la raiz del proyecto al archivo que se\n",
    "# encuentra en la carpeta files/input.\n",
    "truck_events = pd.read_csv(\"../files/input/truck_event_text_partition.csv\")\n",
    "\n",
    "# Cabecera del archivo\n",
    "truck_events.head()"
   ]
  },
  {
   "cell_type": "code",
   "execution_count": 3,
   "id": "f0bb2e99",
   "metadata": {},
   "outputs": [
    {
     "data": {
      "text/plain": [
       "   driverId  truckId eventTime eventType  longitude  latitude  \\\n",
       "0        14       25   59:21.4    Normal     -94.58     37.03   \n",
       "1        18       16   59:21.7    Normal     -89.66     39.78   \n",
       "2        27      105   59:21.7    Normal     -90.21     38.65   \n",
       "3        11       74   59:21.7    Normal     -90.20     38.65   \n",
       "4        22       87   59:21.7    Normal     -90.04     35.19   \n",
       "5        22       87   59:22.3    Normal     -90.37     35.21   \n",
       "6        23       68   59:22.4    Normal     -89.91     40.86   \n",
       "7        11       74   59:22.5    Normal     -89.74     39.10   \n",
       "8        20       41   59:22.5    Normal     -93.36     41.69   \n",
       "9        32       42   59:22.5    Normal     -90.37     35.21   \n",
       "\n",
       "                     eventKey  CorrelationId       driverName     routeId  \\\n",
       "0   14|25|9223370572464814373   3.660000e+18       Adis Cesir   160405074   \n",
       "1   18|16|9223370572464814089   3.660000e+18        Grant Liu  1565885487   \n",
       "2  27|105|9223370572464814070   3.660000e+18  Mark Lochbihler  1325562373   \n",
       "3   11|74|9223370572464814123   3.660000e+18   Jamie Engesser  1567254452   \n",
       "4   22|87|9223370572464814101   3.660000e+18    Nadeem Asghar  1198242881   \n",
       "5   22|87|9223370572464813486   3.660000e+18    Nadeem Asghar  1198242881   \n",
       "6   23|68|9223370572464813450   3.660000e+18        Adam Diaz   160405074   \n",
       "7   11|74|9223370572464813355   3.660000e+18   Jamie Engesser  1567254452   \n",
       "8   20|41|9223370572464813344   3.660000e+18     Chris Harris   160779139   \n",
       "9   32|42|9223370572464813296   3.660000e+18   Ryan Templeton  1090292248   \n",
       "\n",
       "                                routeName      eventDate  \n",
       "0           Joplin to Kansas City Route 2  2016-05-27-22  \n",
       "1           Springfield to KC Via Hanibal  2016-05-27-22  \n",
       "2  Springfield to KC Via Columbia Route 2  2016-05-27-22  \n",
       "3           Saint Louis to Memphis Route2  2016-05-27-22  \n",
       "4           Saint Louis to Chicago Route2  2016-05-27-22  \n",
       "5           Saint Louis to Chicago Route2  2016-05-27-22  \n",
       "6           Joplin to Kansas City Route 2  2016-05-27-22  \n",
       "7           Saint Louis to Memphis Route2  2016-05-27-22  \n",
       "8           Des Moines to Chicago Route 2  2016-05-27-22  \n",
       "9          Peoria to Ceder Rapids Route 2  2016-05-27-22  "
      ]
     },
     "execution_count": 3,
     "metadata": {},
     "output_type": "execute_result"
    }
   ],
   "source": [
    "# Obtención de un subconjunto de registros\n",
    "# Hace una copia slice de las primeras 10 filas del Dataframe\n",
    "# como las filas no tienen un índice único, se usa el por defecto\n",
    "# que es un rango de 0 a n-1, donde n es el número de filas\n",
    "# del Dataframe. En este caso, el rango es de 0 a 9.\n",
    "truck_events_subset = truck_events[0:10]\n",
    "truck_events_subset"
   ]
  },
  {
   "cell_type": "code",
   "execution_count": 4,
   "id": "17bbb31b",
   "metadata": {},
   "outputs": [
    {
     "data": {
      "text/plain": [
       "   driverId eventTime eventType\n",
       "0        14   59:21.4    Normal\n",
       "1        18   59:21.7    Normal\n",
       "2        27   59:21.7    Normal\n",
       "3        11   59:21.7    Normal\n",
       "4        22   59:21.7    Normal\n",
       "5        22   59:22.3    Normal\n",
       "6        23   59:22.4    Normal\n",
       "7        11   59:22.5    Normal\n",
       "8        20   59:22.5    Normal\n",
       "9        32   59:22.5    Normal"
      ]
     },
     "execution_count": 4,
     "metadata": {},
     "output_type": "execute_result"
    }
   ],
   "source": [
    "# Obtención de un subconjunto de columnas\n",
    "# Usando la copia slice del Dataframe definida anteriormente, seleccionamos\n",
    "# las columnas que nos interesan, pasándole una lista de nombres de columnas.\n",
    "specific_columns = truck_events_subset[[\"driverId\", \"eventTime\", \"eventType\"]]\n",
    "specific_columns"
   ]
  },
  {
   "cell_type": "code",
   "execution_count": 5,
   "id": "580c1df4",
   "metadata": {},
   "outputs": [
    {
     "data": {
      "text/plain": [
       "    driverId eventTime eventType\n",
       "0         14   59:21.4    Normal\n",
       "1         18   59:21.7    Normal\n",
       "2         27   59:21.7    Normal\n",
       "3         11   59:21.7    Normal\n",
       "4         22   59:21.7    Normal\n",
       "5         22   59:22.3    Normal\n",
       "6         23   59:22.4    Normal\n",
       "7         11   59:22.5    Normal\n",
       "8         20   59:22.5    Normal\n",
       "9         32   59:22.5    Normal\n",
       "10        27   59:22.6    Normal"
      ]
     },
     "execution_count": 5,
     "metadata": {},
     "output_type": "execute_result"
    }
   ],
   "source": [
    "# Obtención de un subconjunto de filas y columnas\n",
    "# Si lo que queremos es un subconjunto de filas y columnas, podemos usar el\n",
    "# operador .loc[], que recibe como primer argumento el rango de filas y como \n",
    "# segundo argumento una lista de nombres de columnas.\n",
    "\n",
    "# Hay que tener en cuenta que el rango de filas es inclusivo, por lo que\n",
    "# si queremos las primeras 10 filas, debemos usar el rango 0:10, ya que\n",
    "# el último número se incluye en el rango.\n",
    "new_sub_set = truck_events.loc[0:10, [\"driverId\", \"eventTime\", \"eventType\"]]\n",
    "new_sub_set"
   ]
  },
  {
   "cell_type": "code",
   "execution_count": 6,
   "id": "6fe8c28b",
   "metadata": {},
   "outputs": [
    {
     "data": {
      "text/plain": [
       "driverId                                    18\n",
       "truckId                                     16\n",
       "eventTime                              59:21.7\n",
       "eventType                               Normal\n",
       "longitude                               -89.66\n",
       "latitude                                 39.78\n",
       "eventKey             18|16|9223370572464814089\n",
       "CorrelationId            3660000000000000000.0\n",
       "driverName                           Grant Liu\n",
       "routeId                             1565885487\n",
       "routeName        Springfield to KC Via Hanibal\n",
       "eventDate                        2016-05-27-22\n",
       "Name: 1, dtype: object"
      ]
     },
     "execution_count": 6,
     "metadata": {},
     "output_type": "execute_result"
    }
   ],
   "source": [
    "# Obtención de un campo de un registro en particular\n",
    "# Usamos la función .iloc[] para acceder a un registro en particular, esto\n",
    "# nos devuelve un pandas.Series, que es una estructura de datos unidimensional\n",
    "# que puede contener cualquier tipo de datos, representando una fila del\n",
    "# Dataframe. Los índices empiezan en 0.\n",
    "truck_events.iloc[1]"
   ]
  },
  {
   "cell_type": "code",
   "execution_count": 7,
   "id": "6d0247a3",
   "metadata": {},
   "outputs": [
    {
     "data": {
      "text/plain": [
       "'18|16|9223370572464814089'"
      ]
     },
     "execution_count": 7,
     "metadata": {},
     "output_type": "execute_result"
    }
   ],
   "source": [
    "# Podemos obtener un campo en particular de un registro dado usando el\n",
    "# nombre de la columna y la función .iloc[] para acceder al registro.\t\n",
    "truck_events.iloc[1].eventKey\n",
    "# Convención de pandas para acceder si los nombres de las columnas no\n",
    "# siguen las convenciones de nombres de variables de python, por ejemplo\n",
    "# teniendo espacios o caracteres especiales.\n",
    "truck_events.iloc[1][\"eventKey\"]"
   ]
  },
  {
   "cell_type": "code",
   "execution_count": 8,
   "id": "eec5371d",
   "metadata": {},
   "outputs": [],
   "source": [
    "# Escritura de la tabla en el disco\n",
    "import os\n",
    "\n",
    "# Si no existe la carpeta de salida, la creamos\n",
    "if not os.path.exists(\"../files/output/\"):\n",
    "    os.makedirs(\"../files/output/\")\n",
    "\n",
    "# Guarda el DataFrame modificado en un archivo CSV, con especificaciones\n",
    "# dadas.\n",
    "specific_columns.to_csv(\n",
    "    \"../files/output/specific-columns.csv\",\n",
    "    sep=\",\",\n",
    "    header=True,\n",
    "    index=False,\n",
    ")"
   ]
  }
 ],
 "metadata": {
  "kernelspec": {
   "display_name": ".venv",
   "language": "python",
   "name": "python3"
  },
  "language_info": {
   "codemirror_mode": {
    "name": "ipython",
    "version": 3
   },
   "file_extension": ".py",
   "mimetype": "text/x-python",
   "name": "python",
   "nbconvert_exporter": "python",
   "pygments_lexer": "ipython3",
   "version": "3.11.5"
  }
 },
 "nbformat": 4,
 "nbformat_minor": 5
}
